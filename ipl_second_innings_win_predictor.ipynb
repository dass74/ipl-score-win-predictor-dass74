{
 "cells": [
  {
   "cell_type": "code",
   "execution_count": 1,
   "id": "c235dd3a",
   "metadata": {},
   "outputs": [],
   "source": [
    "# ------- import libraries ------- #\n",
    "\n",
    "import numpy as np\n",
    "import pandas as pd\n",
    "from sklearn.model_selection import train_test_split\n",
    "from sklearn.compose import ColumnTransformer\n",
    "from sklearn.preprocessing import OneHotEncoder\n",
    "from sklearn.linear_model import LogisticRegression\n",
    "from sklearn.pipeline import Pipeline\n",
    "from sklearn.metrics import accuracy_score\n",
    "import pickle"
   ]
  },
  {
   "cell_type": "code",
   "execution_count": 2,
   "id": "5c2f1ffe",
   "metadata": {},
   "outputs": [],
   "source": [
    "# ------- read the files ------- #\n",
    "\n",
    "match = pd.read_csv('IPL_Matches_2008_2022.csv')\n",
    "delivery = pd.read_csv('IPL_Ball_by_Ball_2008_2022.csv')"
   ]
  },
  {
   "cell_type": "code",
   "execution_count": 3,
   "id": "8fb8bf58",
   "metadata": {},
   "outputs": [
    {
     "data": {
      "text/plain": [
       "ID                   0\n",
       "City                51\n",
       "Date                 0\n",
       "Season               0\n",
       "MatchNumber          0\n",
       "Team1                0\n",
       "Team2                0\n",
       "Venue                0\n",
       "TossWinner           0\n",
       "TossDecision         0\n",
       "SuperOver            4\n",
       "WinningTeam          4\n",
       "WonBy                0\n",
       "Margin              18\n",
       "method             931\n",
       "Player_of_Match      4\n",
       "Team1Players         0\n",
       "Team2Players         0\n",
       "Umpire1              0\n",
       "Umpire2              0\n",
       "dtype: int64"
      ]
     },
     "execution_count": 3,
     "metadata": {},
     "output_type": "execute_result"
    }
   ],
   "source": [
    "# ------- checking the null values for 'match' dataset ------- #\n",
    "\n",
    "match.isnull().sum()"
   ]
  },
  {
   "cell_type": "code",
   "execution_count": 4,
   "id": "4d961a73",
   "metadata": {},
   "outputs": [
    {
     "data": {
      "text/plain": [
       "Dubai International Cricket Stadium    33\n",
       "Sharjah Cricket Stadium                18\n",
       "Name: Venue, dtype: int64"
      ]
     },
     "execution_count": 4,
     "metadata": {},
     "output_type": "execute_result"
    }
   ],
   "source": [
    "# ------- checking which venue's cities are null ------- #\n",
    "\n",
    "match[match['City'].isnull()]['Venue'].value_counts()"
   ]
  },
  {
   "cell_type": "code",
   "execution_count": 5,
   "id": "1c38d4b3",
   "metadata": {},
   "outputs": [],
   "source": [
    "# ------- i. extracting the city's names from the venues -------#\n",
    "# ------- ii. replacing the city's null values with the names ------- #\n",
    "\n",
    "cities = np.where(match['City'].isnull(),match['Venue'].str.split().apply(lambda x:x[0]),match['City'])\n",
    "match['City'] = cities"
   ]
  },
  {
   "cell_type": "code",
   "execution_count": 6,
   "id": "c3406180",
   "metadata": {},
   "outputs": [],
   "source": [
    "# ------- i. evaluating the total runs for each match and storing it to a new dataset 'total_score_df' ------- #\n",
    "# ------- ii. discarding the second innings total and only going forward with first innings total of each match ------- #\n",
    "\n",
    "total_score_df = delivery.groupby(['ID','innings']).sum()['total_run'].reset_index()\n",
    "total_score_df = total_score_df[total_score_df['innings'] == 1]"
   ]
  },
  {
   "cell_type": "code",
   "execution_count": 7,
   "id": "9e037ab2",
   "metadata": {},
   "outputs": [],
   "source": [
    "# ------- merging the 'total_score_df' with 'match' and storing it to a new dataset 'match_df' ------- #\n",
    "\n",
    "match_df = match.merge(total_score_df[['ID','total_run']],left_on='ID',right_on='ID')"
   ]
  },
  {
   "cell_type": "code",
   "execution_count": 8,
   "id": "50ad3a20",
   "metadata": {},
   "outputs": [
    {
     "data": {
      "text/plain": [
       "array(['Rajasthan Royals', 'Royal Challengers Bangalore',\n",
       "       'Sunrisers Hyderabad', 'Delhi Capitals', 'Chennai Super Kings',\n",
       "       'Gujarat Titans', 'Lucknow Super Giants', 'Kolkata Knight Riders',\n",
       "       'Punjab Kings', 'Mumbai Indians', 'Kings XI Punjab',\n",
       "       'Delhi Daredevils', 'Rising Pune Supergiant', 'Gujarat Lions',\n",
       "       'Rising Pune Supergiants', 'Pune Warriors', 'Deccan Chargers',\n",
       "       'Kochi Tuskers Kerala'], dtype=object)"
      ]
     },
     "execution_count": 8,
     "metadata": {},
     "output_type": "execute_result"
    }
   ],
   "source": [
    "# ------- checking the list of all teams in current dataset ------- #\n",
    "\n",
    "match_df['Team1'].unique()"
   ]
  },
  {
   "cell_type": "code",
   "execution_count": 9,
   "id": "84e03c15",
   "metadata": {},
   "outputs": [],
   "source": [
    "# ------- creating a list of current playing teams in ipl ------- #\n",
    "\n",
    "teams = [\n",
    "    'Rajasthan Royals',\n",
    "    'Royal Challengers Bangalore',\n",
    "    'Sunrisers Hyderabad',\n",
    "    'Delhi Capitals',\n",
    "    'Chennai Super Kings',\n",
    "    'Kolkata Knight Riders',\n",
    "    'Punjab Kings',\n",
    "    'Mumbai Indians'\n",
    "]"
   ]
  },
  {
   "cell_type": "code",
   "execution_count": 10,
   "id": "f1d3e16a",
   "metadata": {},
   "outputs": [],
   "source": [
    "# ------- replacing the old team names with the new team names in the dataset ------- #\n",
    "\n",
    "match_df['Team1'] = match_df['Team1'].str.replace('Delhi Daredevils','Delhi Capitals')\n",
    "match_df['Team2'] = match_df['Team2'].str.replace('Delhi Daredevils','Delhi Capitals')\n",
    "\n",
    "match_df['Team1'] = match_df['Team1'].str.replace('Kings XI Punjab','Punjab Kings')\n",
    "match_df['Team2'] = match_df['Team2'].str.replace('Kings XI Punjab','Punjab Kings')\n",
    "\n",
    "match_df['Team1'] = match_df['Team1'].str.replace('Deccan Chargers','Sunrisers Hyderabad')\n",
    "match_df['Team2'] = match_df['Team2'].str.replace('Deccan Chargers','Sunrisers Hyderabad')"
   ]
  },
  {
   "cell_type": "code",
   "execution_count": 11,
   "id": "bfb50c92",
   "metadata": {},
   "outputs": [],
   "source": [
    "# ------- discarding the past ipl teams and going forward with the current 8 ipl teams ------- #\n",
    "\n",
    "match_df = match_df[match_df['Team1'].isin(teams)]\n",
    "match_df = match_df[match_df['Team2'].isin(teams)]"
   ]
  },
  {
   "cell_type": "code",
   "execution_count": 12,
   "id": "0de32e34",
   "metadata": {},
   "outputs": [
    {
     "data": {
      "text/plain": [
       "D/L    15\n",
       "Name: method, dtype: int64"
      ]
     },
     "execution_count": 12,
     "metadata": {},
     "output_type": "execute_result"
    }
   ],
   "source": [
    "# ------- checking the d/l method matches ------- #\n",
    "\n",
    "match_df['method'].value_counts()"
   ]
  },
  {
   "cell_type": "code",
   "execution_count": 13,
   "id": "6d320010",
   "metadata": {},
   "outputs": [
    {
     "data": {
      "text/plain": [
       "(791, 21)"
      ]
     },
     "execution_count": 13,
     "metadata": {},
     "output_type": "execute_result"
    }
   ],
   "source": [
    "# ------- discarding the d/l matches ------- #\n",
    "\n",
    "match_df = match_df[match_df['method'] != 'D/L']\n",
    "match_df.shape"
   ]
  },
  {
   "cell_type": "code",
   "execution_count": 14,
   "id": "6d55fafa",
   "metadata": {},
   "outputs": [],
   "source": [
    "# ------- i. taking only the necessary fields from 'match_df' dataset ------- #\n",
    "# ------- ii. merging that data with 'delivery' and storing it into a new dataset 'delivery_df' ------- #\n",
    "\n",
    "match_df = match_df[['ID','City','WinningTeam','total_run','Team1','Team2']]\n",
    "delivery_df = match_df.merge(delivery, on='ID')"
   ]
  },
  {
   "cell_type": "code",
   "execution_count": 15,
   "id": "470dfc88",
   "metadata": {},
   "outputs": [
    {
     "data": {
      "text/plain": [
       "(189350, 23)"
      ]
     },
     "execution_count": 15,
     "metadata": {},
     "output_type": "execute_result"
    }
   ],
   "source": [
    "# ------- i. replacing the old team names with the new team names in the new 'delivery_df' dataset ------- #\n",
    "# ------- ii. creating a new feature as [BowlingTeam] as there is no bowling team in the dataset ------- #\n",
    "\n",
    "delivery_df['BattingTeam'] = delivery_df['BattingTeam'].str.replace('Delhi Daredevils','Delhi Capitals')\n",
    "delivery_df['BattingTeam'] = delivery_df['BattingTeam'].str.replace('Kings XI Punjab','Punjab Kings')\n",
    "delivery_df['BattingTeam'] = delivery_df['BattingTeam'].str.replace('Deccan Chargers','Sunrisers Hyderabad')\n",
    "\n",
    "delivery_df.loc[delivery_df['BattingTeam'] == delivery_df['Team1'], 'BowlingTeam'] = delivery_df['Team2']\n",
    "delivery_df.loc[delivery_df['BattingTeam'] == delivery_df['Team2'], 'BowlingTeam'] = delivery_df['Team1']\n",
    "\n",
    "delivery_df.shape"
   ]
  },
  {
   "cell_type": "code",
   "execution_count": 16,
   "id": "0fa7990a",
   "metadata": {},
   "outputs": [
    {
     "data": {
      "text/plain": [
       "(91595, 23)"
      ]
     },
     "execution_count": 16,
     "metadata": {},
     "output_type": "execute_result"
    }
   ],
   "source": [
    "# ------- discarding the first innings and only going forward with the second innings data ------- #\n",
    "\n",
    "delivery_df = delivery_df[delivery_df['innings'] == 2]\n",
    "delivery_df.shape"
   ]
  },
  {
   "cell_type": "code",
   "execution_count": 17,
   "id": "f433ec2f",
   "metadata": {},
   "outputs": [
    {
     "name": "stdout",
     "output_type": "stream",
     "text": [
      "ID\n",
      "City\n",
      "WinningTeam\n",
      "total_run_x\n",
      "Team1\n",
      "Team2\n",
      "innings\n",
      "overs\n",
      "ballnumber\n",
      "batter\n",
      "bowler\n",
      "non-striker\n",
      "extra_type\n",
      "batsman_run\n",
      "extras_run\n",
      "total_run_y\n",
      "non_boundary\n",
      "isWicketDelivery\n",
      "player_out\n",
      "kind\n",
      "fielders_involved\n",
      "BattingTeam\n",
      "BowlingTeam\n"
     ]
    }
   ],
   "source": [
    "# ------- checking all the columns of the new dataset ------- #\n",
    "\n",
    "columns = delivery_df.columns.tolist()\n",
    "for column in columns:\n",
    "    print(column)"
   ]
  },
  {
   "cell_type": "code",
   "execution_count": 18,
   "id": "26429dd0",
   "metadata": {},
   "outputs": [],
   "source": [
    "# ------- evaluating the current score ------- #\n",
    "delivery_df['current_score'] = delivery_df.groupby('ID').cumsum()['total_run_y']\n",
    "\n",
    "# ------- evaluating how many runs are left in the innings ------- #\n",
    "delivery_df['runs_left'] = (delivery_df['total_run_x'] + 1) - delivery_df['current_score']\n",
    "\n",
    "# ------- evaluating how many balls are left in the innings ------- #\n",
    "delivery_df['balls_left'] = 120 - (delivery_df['overs']*6 + delivery_df['ballnumber'])\n",
    "\n",
    "# ------- evaluating how many wickets are left in the innings ------- #\n",
    "wickets = delivery_df.groupby('ID').cumsum()['isWicketDelivery'].values\n",
    "delivery_df['wickets_left'] = 10 - wickets\n",
    "\n",
    "# ------- evaluating the current run rate ------- #\n",
    "delivery_df['crr'] = (delivery_df['current_score'] / (120 - delivery_df['balls_left'])) * 6\n",
    "\n",
    "# ------- evaluating the required run rate ------- #\n",
    "delivery_df['rrr'] = (delivery_df['runs_left'] / delivery_df['balls_left']) * 6\n",
    "\n",
    "# ------- evaluating the target ------- #\n",
    "delivery_df['target'] = delivery_df['total_run_x'] + 1\n",
    "\n",
    "# ------- evaluating the match result ------- #\n",
    "def result(row):\n",
    "  return 1 if row['BattingTeam'] == row['WinningTeam'] else 0\n",
    "delivery_df['result'] = delivery_df.apply(result,axis=1)"
   ]
  },
  {
   "cell_type": "code",
   "execution_count": 19,
   "id": "4c77fec5",
   "metadata": {},
   "outputs": [],
   "source": [
    "# ------- selecting only the necessary features and storing it to a new dataset 'final_df' ------- #\n",
    "\n",
    "final_df = delivery_df[['BattingTeam','BowlingTeam','City','runs_left','balls_left','wickets_left','target','crr','rrr','result']]"
   ]
  },
  {
   "cell_type": "code",
   "execution_count": 20,
   "id": "fb498300",
   "metadata": {},
   "outputs": [
    {
     "name": "stderr",
     "output_type": "stream",
     "text": [
      "c:\\users\\p\\appdata\\local\\programs\\python\\python36\\lib\\site-packages\\ipykernel_launcher.py:3: SettingWithCopyWarning: \n",
      "A value is trying to be set on a copy of a slice from a DataFrame\n",
      "\n",
      "See the caveats in the documentation: https://pandas.pydata.org/pandas-docs/stable/user_guide/indexing.html#returning-a-view-versus-a-copy\n",
      "  This is separate from the ipykernel package so we can avoid doing imports until\n"
     ]
    }
   ],
   "source": [
    "# ------- removing the missing/null values from the 'final_df' ------- #\n",
    "\n",
    "final_df.dropna(inplace=True)"
   ]
  },
  {
   "cell_type": "code",
   "execution_count": 21,
   "id": "cb50f8ce",
   "metadata": {},
   "outputs": [
    {
     "data": {
      "text/plain": [
       "(91289, 10)"
      ]
     },
     "execution_count": 21,
     "metadata": {},
     "output_type": "execute_result"
    }
   ],
   "source": [
    "# ------- discarding the data where [balls_left] = 0, else it will cause error while evaluating crr ------- #\n",
    "\n",
    "final_df = final_df[final_df['balls_left'] != 0]\n",
    "final_df.shape"
   ]
  },
  {
   "cell_type": "code",
   "execution_count": 22,
   "id": "7d0208fa",
   "metadata": {},
   "outputs": [
    {
     "data": {
      "text/html": [
       "<div>\n",
       "<style scoped>\n",
       "    .dataframe tbody tr th:only-of-type {\n",
       "        vertical-align: middle;\n",
       "    }\n",
       "\n",
       "    .dataframe tbody tr th {\n",
       "        vertical-align: top;\n",
       "    }\n",
       "\n",
       "    .dataframe thead th {\n",
       "        text-align: right;\n",
       "    }\n",
       "</style>\n",
       "<table border=\"1\" class=\"dataframe\">\n",
       "  <thead>\n",
       "    <tr style=\"text-align: right;\">\n",
       "      <th></th>\n",
       "      <th>BattingTeam</th>\n",
       "      <th>BowlingTeam</th>\n",
       "      <th>City</th>\n",
       "      <th>runs_left</th>\n",
       "      <th>balls_left</th>\n",
       "      <th>wickets_left</th>\n",
       "      <th>target</th>\n",
       "      <th>crr</th>\n",
       "      <th>rrr</th>\n",
       "      <th>result</th>\n",
       "    </tr>\n",
       "  </thead>\n",
       "  <tbody>\n",
       "    <tr>\n",
       "      <th>179277</th>\n",
       "      <td>Chennai Super Kings</td>\n",
       "      <td>Royal Challengers Bangalore</td>\n",
       "      <td>Chennai</td>\n",
       "      <td>16</td>\n",
       "      <td>6</td>\n",
       "      <td>2</td>\n",
       "      <td>127</td>\n",
       "      <td>5.842105</td>\n",
       "      <td>16.000000</td>\n",
       "      <td>0</td>\n",
       "    </tr>\n",
       "    <tr>\n",
       "      <th>60512</th>\n",
       "      <td>Mumbai Indians</td>\n",
       "      <td>Punjab Kings</td>\n",
       "      <td>Indore</td>\n",
       "      <td>121</td>\n",
       "      <td>67</td>\n",
       "      <td>9</td>\n",
       "      <td>175</td>\n",
       "      <td>6.113208</td>\n",
       "      <td>10.835821</td>\n",
       "      <td>1</td>\n",
       "    </tr>\n",
       "    <tr>\n",
       "      <th>52573</th>\n",
       "      <td>Royal Challengers Bangalore</td>\n",
       "      <td>Mumbai Indians</td>\n",
       "      <td>Bengaluru</td>\n",
       "      <td>120</td>\n",
       "      <td>76</td>\n",
       "      <td>8</td>\n",
       "      <td>188</td>\n",
       "      <td>9.272727</td>\n",
       "      <td>9.473684</td>\n",
       "      <td>0</td>\n",
       "    </tr>\n",
       "    <tr>\n",
       "      <th>108799</th>\n",
       "      <td>Royal Challengers Bangalore</td>\n",
       "      <td>Mumbai Indians</td>\n",
       "      <td>Dubai</td>\n",
       "      <td>61</td>\n",
       "      <td>57</td>\n",
       "      <td>7</td>\n",
       "      <td>116</td>\n",
       "      <td>5.238095</td>\n",
       "      <td>6.421053</td>\n",
       "      <td>1</td>\n",
       "    </tr>\n",
       "    <tr>\n",
       "      <th>86151</th>\n",
       "      <td>Mumbai Indians</td>\n",
       "      <td>Chennai Super Kings</td>\n",
       "      <td>Chennai</td>\n",
       "      <td>73</td>\n",
       "      <td>48</td>\n",
       "      <td>7</td>\n",
       "      <td>159</td>\n",
       "      <td>7.166667</td>\n",
       "      <td>9.125000</td>\n",
       "      <td>1</td>\n",
       "    </tr>\n",
       "    <tr>\n",
       "      <th>...</th>\n",
       "      <td>...</td>\n",
       "      <td>...</td>\n",
       "      <td>...</td>\n",
       "      <td>...</td>\n",
       "      <td>...</td>\n",
       "      <td>...</td>\n",
       "      <td>...</td>\n",
       "      <td>...</td>\n",
       "      <td>...</td>\n",
       "      <td>...</td>\n",
       "    </tr>\n",
       "    <tr>\n",
       "      <th>128106</th>\n",
       "      <td>Kolkata Knight Riders</td>\n",
       "      <td>Mumbai Indians</td>\n",
       "      <td>Kolkata</td>\n",
       "      <td>182</td>\n",
       "      <td>115</td>\n",
       "      <td>9</td>\n",
       "      <td>183</td>\n",
       "      <td>1.200000</td>\n",
       "      <td>9.495652</td>\n",
       "      <td>0</td>\n",
       "    </tr>\n",
       "    <tr>\n",
       "      <th>109308</th>\n",
       "      <td>Punjab Kings</td>\n",
       "      <td>Chennai Super Kings</td>\n",
       "      <td>Abu Dhabi</td>\n",
       "      <td>50</td>\n",
       "      <td>30</td>\n",
       "      <td>7</td>\n",
       "      <td>206</td>\n",
       "      <td>10.400000</td>\n",
       "      <td>10.000000</td>\n",
       "      <td>0</td>\n",
       "    </tr>\n",
       "    <tr>\n",
       "      <th>54495</th>\n",
       "      <td>Kolkata Knight Riders</td>\n",
       "      <td>Sunrisers Hyderabad</td>\n",
       "      <td>Kolkata</td>\n",
       "      <td>123</td>\n",
       "      <td>93</td>\n",
       "      <td>9</td>\n",
       "      <td>175</td>\n",
       "      <td>11.555556</td>\n",
       "      <td>7.935484</td>\n",
       "      <td>0</td>\n",
       "    </tr>\n",
       "    <tr>\n",
       "      <th>1941</th>\n",
       "      <td>Royal Challengers Bangalore</td>\n",
       "      <td>Punjab Kings</td>\n",
       "      <td>Mumbai</td>\n",
       "      <td>70</td>\n",
       "      <td>15</td>\n",
       "      <td>2</td>\n",
       "      <td>210</td>\n",
       "      <td>8.000000</td>\n",
       "      <td>28.000000</td>\n",
       "      <td>0</td>\n",
       "    </tr>\n",
       "    <tr>\n",
       "      <th>179684</th>\n",
       "      <td>Rajasthan Royals</td>\n",
       "      <td>Kolkata Knight Riders</td>\n",
       "      <td>Kolkata</td>\n",
       "      <td>107</td>\n",
       "      <td>91</td>\n",
       "      <td>9</td>\n",
       "      <td>148</td>\n",
       "      <td>8.482759</td>\n",
       "      <td>7.054945</td>\n",
       "      <td>1</td>\n",
       "    </tr>\n",
       "  </tbody>\n",
       "</table>\n",
       "<p>91289 rows × 10 columns</p>\n",
       "</div>"
      ],
      "text/plain": [
       "                        BattingTeam                  BowlingTeam       City  \\\n",
       "179277          Chennai Super Kings  Royal Challengers Bangalore    Chennai   \n",
       "60512                Mumbai Indians                 Punjab Kings     Indore   \n",
       "52573   Royal Challengers Bangalore               Mumbai Indians  Bengaluru   \n",
       "108799  Royal Challengers Bangalore               Mumbai Indians      Dubai   \n",
       "86151                Mumbai Indians          Chennai Super Kings    Chennai   \n",
       "...                             ...                          ...        ...   \n",
       "128106        Kolkata Knight Riders               Mumbai Indians    Kolkata   \n",
       "109308                 Punjab Kings          Chennai Super Kings  Abu Dhabi   \n",
       "54495         Kolkata Knight Riders          Sunrisers Hyderabad    Kolkata   \n",
       "1941    Royal Challengers Bangalore                 Punjab Kings     Mumbai   \n",
       "179684             Rajasthan Royals        Kolkata Knight Riders    Kolkata   \n",
       "\n",
       "        runs_left  balls_left  wickets_left  target        crr        rrr  \\\n",
       "179277         16           6             2     127   5.842105  16.000000   \n",
       "60512         121          67             9     175   6.113208  10.835821   \n",
       "52573         120          76             8     188   9.272727   9.473684   \n",
       "108799         61          57             7     116   5.238095   6.421053   \n",
       "86151          73          48             7     159   7.166667   9.125000   \n",
       "...           ...         ...           ...     ...        ...        ...   \n",
       "128106        182         115             9     183   1.200000   9.495652   \n",
       "109308         50          30             7     206  10.400000  10.000000   \n",
       "54495         123          93             9     175  11.555556   7.935484   \n",
       "1941           70          15             2     210   8.000000  28.000000   \n",
       "179684        107          91             9     148   8.482759   7.054945   \n",
       "\n",
       "        result  \n",
       "179277       0  \n",
       "60512        1  \n",
       "52573        0  \n",
       "108799       1  \n",
       "86151        1  \n",
       "...        ...  \n",
       "128106       0  \n",
       "109308       0  \n",
       "54495        0  \n",
       "1941         0  \n",
       "179684       1  \n",
       "\n",
       "[91289 rows x 10 columns]"
      ]
     },
     "execution_count": 22,
     "metadata": {},
     "output_type": "execute_result"
    }
   ],
   "source": [
    "# ------- randomizing the data, otherwise model will become biased ------- #\n",
    "\n",
    "final_df = final_df.sample(final_df.shape[0])\n",
    "final_df"
   ]
  },
  {
   "cell_type": "code",
   "execution_count": 23,
   "id": "2e493cf8",
   "metadata": {},
   "outputs": [],
   "source": [
    "# ------- i. taking all columns except [result] as model features ------- #\n",
    "# ------- ii. taking [result] as model label ------- #\n",
    "# ------- iii. splitting train and test dataset ------- #\n",
    "\n",
    "x = final_df.iloc[:,:-1]\n",
    "y = final_df.iloc[:,-1]\n",
    "x_train,x_test,y_train,y_test = train_test_split(x,y,test_size=0.2,random_state=1)"
   ]
  },
  {
   "cell_type": "code",
   "execution_count": 24,
   "id": "96929536",
   "metadata": {},
   "outputs": [],
   "source": [
    "# ------- i. transforming the string columns ------- #\n",
    "# ------- ii. creating the pipeline object ------- #\n",
    "\n",
    "trf = ColumnTransformer([('trf',OneHotEncoder(sparse=False,drop='first'),['BattingTeam','BowlingTeam','City'])],remainder='passthrough')\n",
    "pipe = Pipeline(steps=[\n",
    "    ('step1',trf),\n",
    "    ('step2',LogisticRegression(solver='liblinear'))\n",
    "])"
   ]
  },
  {
   "cell_type": "code",
   "execution_count": 25,
   "id": "91121739",
   "metadata": {},
   "outputs": [
    {
     "data": {
      "text/plain": [
       "0.8210647387446599"
      ]
     },
     "execution_count": 25,
     "metadata": {},
     "output_type": "execute_result"
    }
   ],
   "source": [
    "# ------- i. fitting the training data to model ------- #\n",
    "# ------- ii. testing the prediction of the model on test data ------- #\n",
    "# ------- iii. checking the accuracy of the model ------- #\n",
    "\n",
    "pipe.fit(x_train,y_train)\n",
    "y_pred = pipe.predict(x_test)\n",
    "accuracy_score(y_test,y_pred)"
   ]
  },
  {
   "cell_type": "code",
   "execution_count": 26,
   "id": "a79dd54c",
   "metadata": {},
   "outputs": [],
   "source": [
    "# ------- dumping the pipeline object into a pkl file  ------- #\n",
    "\n",
    "pickle.dump(pipe,open('win_pred.pkl','wb'))"
   ]
  },
  {
   "cell_type": "code",
   "execution_count": 27,
   "id": "caed147f",
   "metadata": {},
   "outputs": [
    {
     "data": {
      "text/plain": [
       "array(['Chennai', 'Indore', 'Bengaluru', 'Dubai', 'Chandigarh', 'Mumbai',\n",
       "       'Kolkata', 'Hyderabad', 'Abu Dhabi', 'Delhi', 'Durban',\n",
       "       'Ahmedabad', 'Jaipur', 'Raipur', 'Bangalore', 'Sharjah', 'Pune',\n",
       "       'Bloemfontein', 'Kimberley', 'Port Elizabeth', 'Johannesburg',\n",
       "       'Cape Town', 'Centurion', 'Visakhapatnam', 'Cuttack', 'Nagpur',\n",
       "       'Navi Mumbai', 'East London', 'Ranchi', 'Dharamsala'], dtype=object)"
      ]
     },
     "execution_count": 27,
     "metadata": {},
     "output_type": "execute_result"
    }
   ],
   "source": [
    "# ------- checking the list of all cities in current dataset ------- #\n",
    "\n",
    "final_df['City'].unique()"
   ]
  }
 ],
 "metadata": {
  "kernelspec": {
   "display_name": "Python 3",
   "language": "python",
   "name": "python3"
  },
  "language_info": {
   "codemirror_mode": {
    "name": "ipython",
    "version": 3
   },
   "file_extension": ".py",
   "mimetype": "text/x-python",
   "name": "python",
   "nbconvert_exporter": "python",
   "pygments_lexer": "ipython3",
   "version": "3.6.8"
  }
 },
 "nbformat": 4,
 "nbformat_minor": 5
}
