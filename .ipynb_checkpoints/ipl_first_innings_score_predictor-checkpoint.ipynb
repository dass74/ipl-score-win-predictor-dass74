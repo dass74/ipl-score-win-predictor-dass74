{
 "cells": [
  {
   "cell_type": "code",
   "execution_count": 1,
   "id": "f8959a57",
   "metadata": {},
   "outputs": [],
   "source": [
    "# ------- import libraries ------- #\n",
    "\n",
    "import numpy as np\n",
    "import pandas as pd\n",
    "from sklearn.model_selection import train_test_split\n",
    "from sklearn.preprocessing import StandardScaler, OneHotEncoder\n",
    "from sklearn.pipeline import Pipeline\n",
    "from sklearn.metrics import r2_score, mean_absolute_error\n",
    "import lightgbm as lgb\n",
    "from sklearn.compose import ColumnTransformer\n",
    "import pickle"
   ]
  },
  {
   "cell_type": "code",
   "execution_count": 2,
   "id": "57c4456d",
   "metadata": {},
   "outputs": [],
   "source": [
    "# ------- read the files ------- #\n",
    "\n",
    "match = pd.read_csv('IPL_Matches_2008_2022.csv')\n",
    "delivery = pd.read_csv('IPL_Ball_by_Ball_2008_2022.csv')"
   ]
  },
  {
   "cell_type": "code",
   "execution_count": 3,
   "id": "abe563e1",
   "metadata": {},
   "outputs": [
    {
     "data": {
      "text/plain": [
       "ID                   0\n",
       "City                51\n",
       "Date                 0\n",
       "Season               0\n",
       "MatchNumber          0\n",
       "Team1                0\n",
       "Team2                0\n",
       "Venue                0\n",
       "TossWinner           0\n",
       "TossDecision         0\n",
       "SuperOver            4\n",
       "WinningTeam          4\n",
       "WonBy                0\n",
       "Margin              18\n",
       "method             931\n",
       "Player_of_Match      4\n",
       "Team1Players         0\n",
       "Team2Players         0\n",
       "Umpire1              0\n",
       "Umpire2              0\n",
       "dtype: int64"
      ]
     },
     "execution_count": 3,
     "metadata": {},
     "output_type": "execute_result"
    }
   ],
   "source": [
    "# ------- checking the null values for 'match' dataset ------- #\n",
    "\n",
    "match.isnull().sum()"
   ]
  },
  {
   "cell_type": "code",
   "execution_count": 4,
   "id": "c5ecb8bf",
   "metadata": {},
   "outputs": [
    {
     "data": {
      "text/plain": [
       "Dubai International Cricket Stadium    33\n",
       "Sharjah Cricket Stadium                18\n",
       "Name: Venue, dtype: int64"
      ]
     },
     "execution_count": 4,
     "metadata": {},
     "output_type": "execute_result"
    }
   ],
   "source": [
    "# ------- checking which venue's cities are null ------- #\n",
    "\n",
    "match[match['City'].isnull()]['Venue'].value_counts()"
   ]
  },
  {
   "cell_type": "code",
   "execution_count": 5,
   "id": "b8826515",
   "metadata": {},
   "outputs": [],
   "source": [
    "# ------- i. extracting the city's names from the venues -------#\n",
    "# ------- ii. replacing the city's null values with the names ------- #\n",
    "\n",
    "cities = np.where(match['City'].isnull(),match['Venue'].str.split().apply(lambda x:x[0]),match['City'])\n",
    "match['City'] = cities"
   ]
  },
  {
   "cell_type": "code",
   "execution_count": 6,
   "id": "7ef59fea",
   "metadata": {},
   "outputs": [],
   "source": [
    "# ------- i. evaluating the total runs for each match and storing it to a new dataset 'total_score_df' ------- #\n",
    "# ------- ii. discarding the second innings total and only going forward with first innings total of each match ------- #\n",
    "\n",
    "total_score_df = delivery.groupby(['ID','innings']).sum()['total_run'].reset_index()\n",
    "total_score_df = total_score_df[total_score_df['innings'] == 1]"
   ]
  },
  {
   "cell_type": "code",
   "execution_count": 7,
   "id": "cf953f2e",
   "metadata": {},
   "outputs": [],
   "source": [
    "# ------- merging the 'total_score_df' with 'match' and storing it to a new dataset 'match_df' ------- #\n",
    "\n",
    "match_df = match.merge(total_score_df[['ID','total_run']],left_on='ID',right_on='ID')"
   ]
  },
  {
   "cell_type": "code",
   "execution_count": 8,
   "id": "cd037e01",
   "metadata": {},
   "outputs": [
    {
     "data": {
      "text/plain": [
       "array(['Rajasthan Royals', 'Royal Challengers Bangalore',\n",
       "       'Sunrisers Hyderabad', 'Delhi Capitals', 'Chennai Super Kings',\n",
       "       'Gujarat Titans', 'Lucknow Super Giants', 'Kolkata Knight Riders',\n",
       "       'Punjab Kings', 'Mumbai Indians', 'Kings XI Punjab',\n",
       "       'Delhi Daredevils', 'Rising Pune Supergiant', 'Gujarat Lions',\n",
       "       'Rising Pune Supergiants', 'Pune Warriors', 'Deccan Chargers',\n",
       "       'Kochi Tuskers Kerala'], dtype=object)"
      ]
     },
     "execution_count": 8,
     "metadata": {},
     "output_type": "execute_result"
    }
   ],
   "source": [
    "# ------- checking the list of all teams in current dataset ------- #\n",
    "\n",
    "match_df['Team1'].unique()"
   ]
  },
  {
   "cell_type": "code",
   "execution_count": 9,
   "id": "225158b8",
   "metadata": {},
   "outputs": [],
   "source": [
    "# ------- creating a list of current playing teams in ipl ------- #\n",
    "\n",
    "teams = [\n",
    "    'Rajasthan Royals',\n",
    "    'Royal Challengers Bangalore',\n",
    "    'Sunrisers Hyderabad',\n",
    "    'Delhi Capitals',\n",
    "    'Chennai Super Kings',\n",
    "    'Kolkata Knight Riders',\n",
    "    'Punjab Kings',\n",
    "    'Mumbai Indians'\n",
    "]"
   ]
  },
  {
   "cell_type": "code",
   "execution_count": 10,
   "id": "5403e5db",
   "metadata": {},
   "outputs": [],
   "source": [
    "# ------- replacing the old team names with the new team names in the dataset ------- #\n",
    "\n",
    "match_df['Team1'] = match_df['Team1'].str.replace('Delhi Daredevils','Delhi Capitals')\n",
    "match_df['Team2'] = match_df['Team2'].str.replace('Delhi Daredevils','Delhi Capitals')\n",
    "\n",
    "match_df['Team1'] = match_df['Team1'].str.replace('Kings XI Punjab','Punjab Kings')\n",
    "match_df['Team2'] = match_df['Team2'].str.replace('Kings XI Punjab','Punjab Kings')\n",
    "\n",
    "match_df['Team1'] = match_df['Team1'].str.replace('Deccan Chargers','Sunrisers Hyderabad')\n",
    "match_df['Team2'] = match_df['Team2'].str.replace('Deccan Chargers','Sunrisers Hyderabad')"
   ]
  },
  {
   "cell_type": "code",
   "execution_count": 11,
   "id": "e7755bb3",
   "metadata": {},
   "outputs": [],
   "source": [
    "# ------- discarding the past ipl teams and going forward with the current 8 ipl teams ------- #\n",
    "\n",
    "match_df = match_df[match_df['Team1'].isin(teams)]\n",
    "match_df = match_df[match_df['Team2'].isin(teams)]"
   ]
  },
  {
   "cell_type": "code",
   "execution_count": 12,
   "id": "ad1b8314",
   "metadata": {},
   "outputs": [
    {
     "data": {
      "text/plain": [
       "D/L    15\n",
       "Name: method, dtype: int64"
      ]
     },
     "execution_count": 12,
     "metadata": {},
     "output_type": "execute_result"
    }
   ],
   "source": [
    "# ------- checking the d/l method matches ------- #\n",
    "\n",
    "match_df['method'].value_counts()"
   ]
  },
  {
   "cell_type": "code",
   "execution_count": 13,
   "id": "87c15818",
   "metadata": {},
   "outputs": [
    {
     "data": {
      "text/plain": [
       "(791, 21)"
      ]
     },
     "execution_count": 13,
     "metadata": {},
     "output_type": "execute_result"
    }
   ],
   "source": [
    "# ------- discarding the d/l matches ------- #\n",
    "\n",
    "match_df = match_df[match_df['method'] != 'D/L']\n",
    "match_df.shape"
   ]
  },
  {
   "cell_type": "code",
   "execution_count": 14,
   "id": "f6e027a8",
   "metadata": {},
   "outputs": [],
   "source": [
    "# ------- i. taking only the necessary fields from 'match_df' dataset ------- #\n",
    "# ------- ii. merging that data with 'delivery' and storing it into a new dataset 'delivery_df' ------- #\n",
    "\n",
    "match_df = match_df[['ID','City','WinningTeam','total_run','Team1','Team2']]\n",
    "delivery_df = match_df.merge(delivery, on='ID')"
   ]
  },
  {
   "cell_type": "code",
   "execution_count": 15,
   "id": "d4bf0b8f",
   "metadata": {},
   "outputs": [
    {
     "data": {
      "text/plain": [
       "(189350, 23)"
      ]
     },
     "execution_count": 15,
     "metadata": {},
     "output_type": "execute_result"
    }
   ],
   "source": [
    "# ------- i. replacing the old team names with the new team names in the new 'delivery_df' dataset ------- #\n",
    "# ------- ii. creating a new feature as [BowlingTeam] as there is no bowling team in the dataset ------- #\n",
    "\n",
    "delivery_df['BattingTeam'] = delivery_df['BattingTeam'].str.replace('Delhi Daredevils','Delhi Capitals')\n",
    "delivery_df['BattingTeam'] = delivery_df['BattingTeam'].str.replace('Kings XI Punjab','Punjab Kings')\n",
    "delivery_df['BattingTeam'] = delivery_df['BattingTeam'].str.replace('Deccan Chargers','Sunrisers Hyderabad')\n",
    "\n",
    "delivery_df.loc[delivery_df['BattingTeam'] == delivery_df['Team1'], 'BowlingTeam'] = delivery_df['Team2']\n",
    "delivery_df.loc[delivery_df['BattingTeam'] == delivery_df['Team2'], 'BowlingTeam'] = delivery_df['Team1']\n",
    "\n",
    "delivery_df.shape"
   ]
  },
  {
   "cell_type": "code",
   "execution_count": 16,
   "id": "e0f33284",
   "metadata": {},
   "outputs": [
    {
     "data": {
      "text/plain": [
       "(97607, 23)"
      ]
     },
     "execution_count": 16,
     "metadata": {},
     "output_type": "execute_result"
    }
   ],
   "source": [
    "# ------- discarding the second innings and only going forward with the first innings data ------- #\n",
    "\n",
    "delivery_df = delivery_df[delivery_df['innings'] == 1]\n",
    "delivery_df.shape"
   ]
  },
  {
   "cell_type": "code",
   "execution_count": 17,
   "id": "f8586d46",
   "metadata": {},
   "outputs": [
    {
     "name": "stdout",
     "output_type": "stream",
     "text": [
      "ID\n",
      "City\n",
      "WinningTeam\n",
      "total_run_x\n",
      "Team1\n",
      "Team2\n",
      "innings\n",
      "overs\n",
      "ballnumber\n",
      "batter\n",
      "bowler\n",
      "non-striker\n",
      "extra_type\n",
      "batsman_run\n",
      "extras_run\n",
      "total_run_y\n",
      "non_boundary\n",
      "isWicketDelivery\n",
      "player_out\n",
      "kind\n",
      "fielders_involved\n",
      "BattingTeam\n",
      "BowlingTeam\n"
     ]
    }
   ],
   "source": [
    "# ------- checking all the columns of the new dataset ------- #\n",
    "\n",
    "columns = delivery_df.columns.tolist()\n",
    "for column in columns:\n",
    "    print(column)"
   ]
  },
  {
   "cell_type": "code",
   "execution_count": 18,
   "id": "644fb9e6",
   "metadata": {},
   "outputs": [],
   "source": [
    "# ------- evaluating the current score ------- #\n",
    "delivery_df['current_score'] = delivery_df.groupby('ID').cumsum()['total_run_y']\n",
    "\n",
    "# ------- evaluating how many balls are left in the innings ------- #\n",
    "delivery_df['balls_left'] = 120 - (delivery_df['overs']*6 + delivery_df['ballnumber'])\n",
    "\n",
    "# ------- evaluating how many wickets are left in the innings ------- #\n",
    "wickets = delivery_df.groupby('ID').cumsum()['isWicketDelivery'].values\n",
    "delivery_df['wickets_left'] = 10 - wickets\n",
    "\n",
    "# ------- evaluating the current run rate ------- #\n",
    "delivery_df['crr'] = (delivery_df['current_score'] / (120 - delivery_df['balls_left'])) * 6\n",
    "\n",
    "# ------- evaluating (i)last 5 overs runs and (ii)last 5 overs wickets fall ------- #\n",
    "groups = delivery_df.groupby('ID')\n",
    "match_ids = delivery_df['ID'].unique()\n",
    "last_five_runs = []\n",
    "last_five_wickets = []\n",
    "for id in match_ids:\n",
    "    last_five_runs.extend(groups.get_group(id).rolling(window=30).sum()['total_run_y'].values.tolist())\n",
    "    last_five_wickets.extend(groups.get_group(id).rolling(window=30).sum()['isWicketDelivery'].values.tolist())\n",
    "delivery_df['last_five_runs'] = last_five_runs\n",
    "delivery_df['last_five_wickets'] = last_five_wickets"
   ]
  },
  {
   "cell_type": "code",
   "execution_count": 19,
   "id": "b4e57d07",
   "metadata": {},
   "outputs": [],
   "source": [
    "# ------- selecting only the necessary features and storing it to a new dataset 'final_df' ------- #\n",
    "\n",
    "final_df = delivery_df[['BattingTeam','BowlingTeam','City','current_score','balls_left','wickets_left','crr','last_five_runs','last_five_wickets','total_run_x']]"
   ]
  },
  {
   "cell_type": "code",
   "execution_count": 20,
   "id": "be6c8b56",
   "metadata": {},
   "outputs": [
    {
     "name": "stderr",
     "output_type": "stream",
     "text": [
      "c:\\users\\p\\appdata\\local\\programs\\python\\python36\\lib\\site-packages\\ipykernel_launcher.py:3: SettingWithCopyWarning: \n",
      "A value is trying to be set on a copy of a slice from a DataFrame\n",
      "\n",
      "See the caveats in the documentation: https://pandas.pydata.org/pandas-docs/stable/user_guide/indexing.html#returning-a-view-versus-a-copy\n",
      "  This is separate from the ipykernel package so we can avoid doing imports until\n"
     ]
    }
   ],
   "source": [
    "# ------- removing the missing/null values from the 'final_df' ------- #\n",
    "\n",
    "final_df.dropna(inplace=True)"
   ]
  },
  {
   "cell_type": "code",
   "execution_count": 21,
   "id": "d84c79b1",
   "metadata": {},
   "outputs": [
    {
     "data": {
      "text/plain": [
       "(73926, 10)"
      ]
     },
     "execution_count": 21,
     "metadata": {},
     "output_type": "execute_result"
    }
   ],
   "source": [
    "# ------- discarding the data where [balls_left] = 0, else it will cause error while evaluating crr ------- #\n",
    "\n",
    "final_df = final_df[final_df['balls_left'] != 0]\n",
    "final_df.shape"
   ]
  },
  {
   "cell_type": "code",
   "execution_count": 22,
   "id": "c62bd97f",
   "metadata": {},
   "outputs": [
    {
     "data": {
      "text/html": [
       "<div>\n",
       "<style scoped>\n",
       "    .dataframe tbody tr th:only-of-type {\n",
       "        vertical-align: middle;\n",
       "    }\n",
       "\n",
       "    .dataframe tbody tr th {\n",
       "        vertical-align: top;\n",
       "    }\n",
       "\n",
       "    .dataframe thead th {\n",
       "        text-align: right;\n",
       "    }\n",
       "</style>\n",
       "<table border=\"1\" class=\"dataframe\">\n",
       "  <thead>\n",
       "    <tr style=\"text-align: right;\">\n",
       "      <th></th>\n",
       "      <th>BattingTeam</th>\n",
       "      <th>BowlingTeam</th>\n",
       "      <th>City</th>\n",
       "      <th>current_score</th>\n",
       "      <th>balls_left</th>\n",
       "      <th>wickets_left</th>\n",
       "      <th>crr</th>\n",
       "      <th>last_five_runs</th>\n",
       "      <th>last_five_wickets</th>\n",
       "      <th>total_run_x</th>\n",
       "    </tr>\n",
       "  </thead>\n",
       "  <tbody>\n",
       "    <tr>\n",
       "      <th>107274</th>\n",
       "      <td>Kolkata Knight Riders</td>\n",
       "      <td>Royal Challengers Bangalore</td>\n",
       "      <td>Sharjah</td>\n",
       "      <td>131</td>\n",
       "      <td>13</td>\n",
       "      <td>4</td>\n",
       "      <td>7.345794</td>\n",
       "      <td>35.0</td>\n",
       "      <td>2.0</td>\n",
       "      <td>150</td>\n",
       "    </tr>\n",
       "    <tr>\n",
       "      <th>42005</th>\n",
       "      <td>Mumbai Indians</td>\n",
       "      <td>Sunrisers Hyderabad</td>\n",
       "      <td>Mumbai</td>\n",
       "      <td>91</td>\n",
       "      <td>48</td>\n",
       "      <td>8</td>\n",
       "      <td>7.583333</td>\n",
       "      <td>38.0</td>\n",
       "      <td>1.0</td>\n",
       "      <td>162</td>\n",
       "    </tr>\n",
       "    <tr>\n",
       "      <th>44993</th>\n",
       "      <td>Royal Challengers Bangalore</td>\n",
       "      <td>Chennai Super Kings</td>\n",
       "      <td>Bengaluru</td>\n",
       "      <td>156</td>\n",
       "      <td>3</td>\n",
       "      <td>4</td>\n",
       "      <td>8.000000</td>\n",
       "      <td>45.0</td>\n",
       "      <td>3.0</td>\n",
       "      <td>161</td>\n",
       "    </tr>\n",
       "    <tr>\n",
       "      <th>14937</th>\n",
       "      <td>Rajasthan Royals</td>\n",
       "      <td>Royal Challengers Bangalore</td>\n",
       "      <td>Dubai</td>\n",
       "      <td>93</td>\n",
       "      <td>56</td>\n",
       "      <td>9</td>\n",
       "      <td>8.718750</td>\n",
       "      <td>37.0</td>\n",
       "      <td>1.0</td>\n",
       "      <td>149</td>\n",
       "    </tr>\n",
       "    <tr>\n",
       "      <th>152411</th>\n",
       "      <td>Delhi Capitals</td>\n",
       "      <td>Punjab Kings</td>\n",
       "      <td>Delhi</td>\n",
       "      <td>45</td>\n",
       "      <td>85</td>\n",
       "      <td>7</td>\n",
       "      <td>7.714286</td>\n",
       "      <td>40.0</td>\n",
       "      <td>2.0</td>\n",
       "      <td>111</td>\n",
       "    </tr>\n",
       "    <tr>\n",
       "      <th>...</th>\n",
       "      <td>...</td>\n",
       "      <td>...</td>\n",
       "      <td>...</td>\n",
       "      <td>...</td>\n",
       "      <td>...</td>\n",
       "      <td>...</td>\n",
       "      <td>...</td>\n",
       "      <td>...</td>\n",
       "      <td>...</td>\n",
       "      <td>...</td>\n",
       "    </tr>\n",
       "    <tr>\n",
       "      <th>26047</th>\n",
       "      <td>Mumbai Indians</td>\n",
       "      <td>Delhi Capitals</td>\n",
       "      <td>Dubai</td>\n",
       "      <td>106</td>\n",
       "      <td>38</td>\n",
       "      <td>6</td>\n",
       "      <td>7.756098</td>\n",
       "      <td>25.0</td>\n",
       "      <td>2.0</td>\n",
       "      <td>200</td>\n",
       "    </tr>\n",
       "    <tr>\n",
       "      <th>167360</th>\n",
       "      <td>Punjab Kings</td>\n",
       "      <td>Mumbai Indians</td>\n",
       "      <td>Centurion</td>\n",
       "      <td>117</td>\n",
       "      <td>2</td>\n",
       "      <td>1</td>\n",
       "      <td>5.949153</td>\n",
       "      <td>25.0</td>\n",
       "      <td>2.0</td>\n",
       "      <td>119</td>\n",
       "    </tr>\n",
       "    <tr>\n",
       "      <th>8002</th>\n",
       "      <td>Mumbai Indians</td>\n",
       "      <td>Royal Challengers Bangalore</td>\n",
       "      <td>Pune</td>\n",
       "      <td>62</td>\n",
       "      <td>59</td>\n",
       "      <td>5</td>\n",
       "      <td>6.098361</td>\n",
       "      <td>20.0</td>\n",
       "      <td>5.0</td>\n",
       "      <td>151</td>\n",
       "    </tr>\n",
       "    <tr>\n",
       "      <th>178378</th>\n",
       "      <td>Rajasthan Royals</td>\n",
       "      <td>Chennai Super Kings</td>\n",
       "      <td>Chennai</td>\n",
       "      <td>139</td>\n",
       "      <td>43</td>\n",
       "      <td>9</td>\n",
       "      <td>10.831169</td>\n",
       "      <td>49.0</td>\n",
       "      <td>1.0</td>\n",
       "      <td>211</td>\n",
       "    </tr>\n",
       "    <tr>\n",
       "      <th>1551</th>\n",
       "      <td>Kolkata Knight Riders</td>\n",
       "      <td>Sunrisers Hyderabad</td>\n",
       "      <td>Pune</td>\n",
       "      <td>127</td>\n",
       "      <td>27</td>\n",
       "      <td>5</td>\n",
       "      <td>8.193548</td>\n",
       "      <td>38.0</td>\n",
       "      <td>1.0</td>\n",
       "      <td>177</td>\n",
       "    </tr>\n",
       "  </tbody>\n",
       "</table>\n",
       "<p>73926 rows × 10 columns</p>\n",
       "</div>"
      ],
      "text/plain": [
       "                        BattingTeam                  BowlingTeam       City  \\\n",
       "107274        Kolkata Knight Riders  Royal Challengers Bangalore    Sharjah   \n",
       "42005                Mumbai Indians          Sunrisers Hyderabad     Mumbai   \n",
       "44993   Royal Challengers Bangalore          Chennai Super Kings  Bengaluru   \n",
       "14937              Rajasthan Royals  Royal Challengers Bangalore      Dubai   \n",
       "152411               Delhi Capitals                 Punjab Kings      Delhi   \n",
       "...                             ...                          ...        ...   \n",
       "26047                Mumbai Indians               Delhi Capitals      Dubai   \n",
       "167360                 Punjab Kings               Mumbai Indians  Centurion   \n",
       "8002                 Mumbai Indians  Royal Challengers Bangalore       Pune   \n",
       "178378             Rajasthan Royals          Chennai Super Kings    Chennai   \n",
       "1551          Kolkata Knight Riders          Sunrisers Hyderabad       Pune   \n",
       "\n",
       "        current_score  balls_left  wickets_left        crr  last_five_runs  \\\n",
       "107274            131          13             4   7.345794            35.0   \n",
       "42005              91          48             8   7.583333            38.0   \n",
       "44993             156           3             4   8.000000            45.0   \n",
       "14937              93          56             9   8.718750            37.0   \n",
       "152411             45          85             7   7.714286            40.0   \n",
       "...               ...         ...           ...        ...             ...   \n",
       "26047             106          38             6   7.756098            25.0   \n",
       "167360            117           2             1   5.949153            25.0   \n",
       "8002               62          59             5   6.098361            20.0   \n",
       "178378            139          43             9  10.831169            49.0   \n",
       "1551              127          27             5   8.193548            38.0   \n",
       "\n",
       "        last_five_wickets  total_run_x  \n",
       "107274                2.0          150  \n",
       "42005                 1.0          162  \n",
       "44993                 3.0          161  \n",
       "14937                 1.0          149  \n",
       "152411                2.0          111  \n",
       "...                   ...          ...  \n",
       "26047                 2.0          200  \n",
       "167360                2.0          119  \n",
       "8002                  5.0          151  \n",
       "178378                1.0          211  \n",
       "1551                  1.0          177  \n",
       "\n",
       "[73926 rows x 10 columns]"
      ]
     },
     "execution_count": 22,
     "metadata": {},
     "output_type": "execute_result"
    }
   ],
   "source": [
    "# ------- randomizing the data, otherwise model will become biased ------- #\n",
    "\n",
    "final_df = final_df.sample(final_df.shape[0])\n",
    "final_df"
   ]
  },
  {
   "cell_type": "code",
   "execution_count": 23,
   "id": "4ede0b48",
   "metadata": {},
   "outputs": [],
   "source": [
    "# ------- i. taking all columns except [total_run_x] as model features ------- #\n",
    "# ------- ii. taking [total_run_x] as model label ------- #\n",
    "# ------- iii. splitting train and test dataset ------- #\n",
    "\n",
    "x = final_df.drop(columns=['total_run_x'])\n",
    "y = final_df['total_run_x']\n",
    "x_train,x_test,y_train,y_test = train_test_split(x,y,test_size=0.2,random_state=1)"
   ]
  },
  {
   "cell_type": "code",
   "execution_count": 24,
   "id": "1379135f",
   "metadata": {},
   "outputs": [],
   "source": [
    "# ------- i. transforming the string columns ------- #\n",
    "# ------- ii. creating the pipeline object ------- #\n",
    "\n",
    "trf = ColumnTransformer([('trf',OneHotEncoder(sparse=False,drop='first'),['BattingTeam','BowlingTeam','City'])],remainder='passthrough')\n",
    "pipe = Pipeline(steps=[\n",
    "    ('step1', trf),\n",
    "    ('step2', StandardScaler()),\n",
    "    ('step3', lgb.LGBMRegressor(n_estimators=1000, learning_rate=0.2, max_depth=12, random_state=1))\n",
    "])"
   ]
  },
  {
   "cell_type": "code",
   "execution_count": 25,
   "id": "425f318e",
   "metadata": {},
   "outputs": [
    {
     "name": "stdout",
     "output_type": "stream",
     "text": [
      "0.9578058989584746\n",
      "3.870549237257272\n"
     ]
    }
   ],
   "source": [
    "# ------- i. fitting the training data to model ------- #\n",
    "# ------- ii. testing the prediction of the model on test data ------- #\n",
    "# ------- iii. checking the efficiency of the model ------- #\n",
    "\n",
    "pipe.fit(x_train,y_train)\n",
    "y_pred = pipe.predict(x_test)\n",
    "print(r2_score(y_test,y_pred))\n",
    "print(mean_absolute_error(y_test,y_pred))"
   ]
  },
  {
   "cell_type": "code",
   "execution_count": 26,
   "id": "c4170b38",
   "metadata": {},
   "outputs": [],
   "source": [
    "# ------- dumping the pipeline object into a pkl file  ------- #\n",
    "\n",
    "pickle.dump(pipe,open('score_pred.pkl','wb'))"
   ]
  },
  {
   "cell_type": "code",
   "execution_count": 27,
   "id": "84dea2a2",
   "metadata": {},
   "outputs": [
    {
     "data": {
      "text/plain": [
       "array(['Sharjah', 'Mumbai', 'Bengaluru', 'Dubai', 'Delhi', 'Chandigarh',\n",
       "       'Durban', 'East London', 'Navi Mumbai', 'Ahmedabad', 'Hyderabad',\n",
       "       'Port Elizabeth', 'Kolkata', 'Dharamsala', 'Chennai', 'Jaipur',\n",
       "       'Bangalore', 'Abu Dhabi', 'Raipur', 'Kimberley', 'Pune',\n",
       "       'Visakhapatnam', 'Indore', 'Centurion', 'Ranchi', 'Johannesburg',\n",
       "       'Cape Town', 'Cuttack', 'Nagpur', 'Bloemfontein'], dtype=object)"
      ]
     },
     "execution_count": 27,
     "metadata": {},
     "output_type": "execute_result"
    }
   ],
   "source": [
    "# ------- checking the list of all cities in current dataset ------- #\n",
    "\n",
    "final_df['City'].unique()"
   ]
  }
 ],
 "metadata": {
  "kernelspec": {
   "display_name": "Python 3",
   "language": "python",
   "name": "python3"
  },
  "language_info": {
   "codemirror_mode": {
    "name": "ipython",
    "version": 3
   },
   "file_extension": ".py",
   "mimetype": "text/x-python",
   "name": "python",
   "nbconvert_exporter": "python",
   "pygments_lexer": "ipython3",
   "version": "3.6.8"
  }
 },
 "nbformat": 4,
 "nbformat_minor": 5
}
